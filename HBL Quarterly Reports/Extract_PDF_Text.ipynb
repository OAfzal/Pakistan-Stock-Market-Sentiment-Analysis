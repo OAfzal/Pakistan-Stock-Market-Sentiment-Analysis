{
 "cells": [
  {
   "cell_type": "code",
   "execution_count": 29,
   "metadata": {},
   "outputs": [],
   "source": [
    "import pandas as pd"
   ]
  },
  {
   "cell_type": "code",
   "execution_count": 42,
   "metadata": {},
   "outputs": [],
   "source": [
    "df = pd.read_csv(\"/home/duke/PSMSA/HBLData.csv\")"
   ]
  },
  {
   "cell_type": "code",
   "execution_count": 43,
   "metadata": {},
   "outputs": [
    {
     "data": {
      "text/html": [
       "<div>\n",
       "<style scoped>\n",
       "    .dataframe tbody tr th:only-of-type {\n",
       "        vertical-align: middle;\n",
       "    }\n",
       "\n",
       "    .dataframe tbody tr th {\n",
       "        vertical-align: top;\n",
       "    }\n",
       "\n",
       "    .dataframe thead th {\n",
       "        text-align: right;\n",
       "    }\n",
       "</style>\n",
       "<table border=\"1\" class=\"dataframe\">\n",
       "  <thead>\n",
       "    <tr style=\"text-align: right;\">\n",
       "      <th></th>\n",
       "      <th>Price</th>\n",
       "      <th>Open</th>\n",
       "      <th>High</th>\n",
       "      <th>Low</th>\n",
       "      <th>Vol.</th>\n",
       "      <th>Change %</th>\n",
       "    </tr>\n",
       "    <tr>\n",
       "      <th>Date</th>\n",
       "      <th></th>\n",
       "      <th></th>\n",
       "      <th></th>\n",
       "      <th></th>\n",
       "      <th></th>\n",
       "      <th></th>\n",
       "    </tr>\n",
       "  </thead>\n",
       "  <tbody>\n",
       "    <tr>\n",
       "      <th>May 30, 2019</th>\n",
       "      <td>123.51</td>\n",
       "      <td>124.43</td>\n",
       "      <td>125.97</td>\n",
       "      <td>122.25</td>\n",
       "      <td>1.84M</td>\n",
       "      <td>-1.03%</td>\n",
       "    </tr>\n",
       "    <tr>\n",
       "      <th>May 29, 2019</th>\n",
       "      <td>124.80</td>\n",
       "      <td>122.97</td>\n",
       "      <td>125.99</td>\n",
       "      <td>122.97</td>\n",
       "      <td>1.47M</td>\n",
       "      <td>1.22%</td>\n",
       "    </tr>\n",
       "    <tr>\n",
       "      <th>May 28, 2019</th>\n",
       "      <td>123.30</td>\n",
       "      <td>126.74</td>\n",
       "      <td>127.00</td>\n",
       "      <td>122.00</td>\n",
       "      <td>2.87M</td>\n",
       "      <td>-2.76%</td>\n",
       "    </tr>\n",
       "    <tr>\n",
       "      <th>May 27, 2019</th>\n",
       "      <td>126.80</td>\n",
       "      <td>126.00</td>\n",
       "      <td>127.99</td>\n",
       "      <td>125.00</td>\n",
       "      <td>575.80K</td>\n",
       "      <td>0.42%</td>\n",
       "    </tr>\n",
       "    <tr>\n",
       "      <th>May 24, 2019</th>\n",
       "      <td>126.27</td>\n",
       "      <td>127.13</td>\n",
       "      <td>128.48</td>\n",
       "      <td>125.51</td>\n",
       "      <td>3.29M</td>\n",
       "      <td>-0.68%</td>\n",
       "    </tr>\n",
       "  </tbody>\n",
       "</table>\n",
       "</div>"
      ],
      "text/plain": [
       "               Price    Open    High     Low     Vol. Change %\n",
       "Date                                                          \n",
       "May 30, 2019  123.51  124.43  125.97  122.25    1.84M   -1.03%\n",
       "May 29, 2019  124.80  122.97  125.99  122.97    1.47M    1.22%\n",
       "May 28, 2019  123.30  126.74  127.00  122.00    2.87M   -2.76%\n",
       "May 27, 2019  126.80  126.00  127.99  125.00  575.80K    0.42%\n",
       "May 24, 2019  126.27  127.13  128.48  125.51    3.29M   -0.68%"
      ]
     },
     "execution_count": 43,
     "metadata": {},
     "output_type": "execute_result"
    }
   ],
   "source": [
    "df.set_index('Date', inplace=True)\n",
    "df.head()"
   ]
  },
  {
   "cell_type": "code",
   "execution_count": 45,
   "metadata": {},
   "outputs": [],
   "source": [
    "#now we have the dates and the OHLC values plus the Change of one company, we can now use tweepy to analyze \n",
    "#sentiment through twitter OR find a way to analyse financial statements (the pictures and different formatting \n",
    "#is what makes this seemingly trivial task hard)\n",
    "import tweepy"
   ]
  },
  {
   "cell_type": "code",
   "execution_count": null,
   "metadata": {},
   "outputs": [],
   "source": []
  }
 ],
 "metadata": {
  "kernelspec": {
   "display_name": "Python 3",
   "language": "python3",
   "name": "python3"
  },
  "language_info": {
   "codemirror_mode": {
    "name": "ipython",
    "version": 3
   },
   "file_extension": ".py",
   "mimetype": "text/x-python",
   "name": "python",
   "nbconvert_exporter": "python",
   "pygments_lexer": "ipython3",
   "version": "3.6.9"
  }
 },
 "nbformat": 4,
 "nbformat_minor": 2
}
