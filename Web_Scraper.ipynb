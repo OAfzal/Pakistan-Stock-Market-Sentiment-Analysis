{
 "cells": [
  {
   "cell_type": "code",
   "execution_count": 73,
   "metadata": {},
   "outputs": [
    {
     "name": "stdout",
     "output_type": "stream",
     "text": [
      "['https://pkfinance.info/kse/stock/HBL?tb=true', 'https://pkfinance.info/kse/stock/ENGRO?tb=true']\n"
     ]
    }
   ],
   "source": [
    "import csv, time, lxml, json, requests\n",
    "import pandas as pd\n",
    "from pandas.io.json import json_normalize\n",
    "import bs4 as bs\n",
    "import urllib3 as urllib\n",
    "\n",
    "Base_url = \"http://www.pkfinance.info\"\n",
    " \n",
    "# Build a dictionary of companies and their abbreviated names \n",
    "companies = {'Habib Bank Limited':'HBL', 'Engro Chemical':'ENGRO'}\n",
    "             \n",
    "# Create a list of the news section urls of the respective companies \n",
    "url_list = ['https://pkfinance.info/kse/stock/{}?tb=true'.format(v) for k,v in companies.items()]\n",
    "\n",
    "print(url_list)"
   ]
  },
  {
   "cell_type": "code",
   "execution_count": 68,
   "metadata": {},
   "outputs": [],
   "source": [
    "import json\n",
    "url = 'http://www.scstrade.com/stockscreening/SS_CompanySnapShotHP.aspx/chart'\n",
    "payload = {\"par\":\"HBL\",\"date1\":\"01/01/2019\",\"date2\":\"06/01/2019\",\"rows\":20,\"page\":1,\"sidx\":\"trading_Date\",\"sord\":\"desc\"}\n",
    "\n",
    "json_data = requests.post(url, json=payload).json()\n",
    "#print(json.dumps(json_data, indent=4))"
   ]
  },
  {
   "cell_type": "code",
   "execution_count": 69,
   "metadata": {},
   "outputs": [],
   "source": [
    "json_normalize(json_data)\n",
    "df = pd.DataFrame(json_data)"
   ]
  },
  {
   "cell_type": "code",
   "execution_count": 70,
   "metadata": {},
   "outputs": [],
   "source": [
    "df = pd.io.json.json_normalize(json_data['d'], errors='ignore')"
   ]
  },
  {
   "cell_type": "code",
   "execution_count": 71,
   "metadata": {},
   "outputs": [],
   "source": [
    "df.columns = ['Date', 'Open', 'High', 'Low', 'Close', 'Volume', 'Change']\n",
    "df.set_index(['Date'], inplace=True)"
   ]
  },
  {
   "cell_type": "code",
   "execution_count": 67,
   "metadata": {},
   "outputs": [
    {
     "data": {
      "text/html": [
       "<div>\n",
       "<style scoped>\n",
       "    .dataframe tbody tr th:only-of-type {\n",
       "        vertical-align: middle;\n",
       "    }\n",
       "\n",
       "    .dataframe tbody tr th {\n",
       "        vertical-align: top;\n",
       "    }\n",
       "\n",
       "    .dataframe thead th {\n",
       "        text-align: right;\n",
       "    }\n",
       "</style>\n",
       "<table border=\"1\" class=\"dataframe\">\n",
       "  <thead>\n",
       "    <tr style=\"text-align: right;\">\n",
       "      <th></th>\n",
       "      <th>Open</th>\n",
       "      <th>High</th>\n",
       "      <th>Low</th>\n",
       "      <th>Close</th>\n",
       "      <th>Volume</th>\n",
       "      <th>Change</th>\n",
       "    </tr>\n",
       "    <tr>\n",
       "      <th>Date</th>\n",
       "      <th></th>\n",
       "      <th></th>\n",
       "      <th></th>\n",
       "      <th></th>\n",
       "      <th></th>\n",
       "      <th></th>\n",
       "    </tr>\n",
       "  </thead>\n",
       "  <tbody>\n",
       "    <tr>\n",
       "      <th>/Date(1559156400000)/</th>\n",
       "      <td>124.43</td>\n",
       "      <td>125.97</td>\n",
       "      <td>122.25</td>\n",
       "      <td>123.51</td>\n",
       "      <td>1838900</td>\n",
       "      <td>-0.92</td>\n",
       "    </tr>\n",
       "    <tr>\n",
       "      <th>/Date(1559070000000)/</th>\n",
       "      <td>122.97</td>\n",
       "      <td>125.99</td>\n",
       "      <td>122.97</td>\n",
       "      <td>124.43</td>\n",
       "      <td>1465100</td>\n",
       "      <td>1.47</td>\n",
       "    </tr>\n",
       "    <tr>\n",
       "      <th>/Date(1558983600000)/</th>\n",
       "      <td>126.74</td>\n",
       "      <td>127.00</td>\n",
       "      <td>122.00</td>\n",
       "      <td>122.96</td>\n",
       "      <td>2868700</td>\n",
       "      <td>-3.78</td>\n",
       "    </tr>\n",
       "    <tr>\n",
       "      <th>/Date(1558897200000)/</th>\n",
       "      <td>126.00</td>\n",
       "      <td>127.99</td>\n",
       "      <td>125.00</td>\n",
       "      <td>126.74</td>\n",
       "      <td>575800</td>\n",
       "      <td>0.47</td>\n",
       "    </tr>\n",
       "    <tr>\n",
       "      <th>/Date(1558638000000)/</th>\n",
       "      <td>127.13</td>\n",
       "      <td>128.48</td>\n",
       "      <td>125.51</td>\n",
       "      <td>126.27</td>\n",
       "      <td>3292600</td>\n",
       "      <td>-0.86</td>\n",
       "    </tr>\n",
       "  </tbody>\n",
       "</table>\n",
       "</div>"
      ],
      "text/plain": [
       "                         Open    High     Low   Close   Volume  Change\n",
       "Date                                                                  \n",
       "/Date(1559156400000)/  124.43  125.97  122.25  123.51  1838900   -0.92\n",
       "/Date(1559070000000)/  122.97  125.99  122.97  124.43  1465100    1.47\n",
       "/Date(1558983600000)/  126.74  127.00  122.00  122.96  2868700   -3.78\n",
       "/Date(1558897200000)/  126.00  127.99  125.00  126.74   575800    0.47\n",
       "/Date(1558638000000)/  127.13  128.48  125.51  126.27  3292600   -0.86"
      ]
     },
     "execution_count": 67,
     "metadata": {},
     "output_type": "execute_result"
    }
   ],
   "source": [
    "df.head()"
   ]
  },
  {
   "cell_type": "code",
   "execution_count": null,
   "metadata": {},
   "outputs": [],
   "source": []
  }
 ],
 "metadata": {
  "kernelspec": {
   "display_name": "Python 3",
   "language": "python3",
   "name": "python3"
  },
  "language_info": {
   "codemirror_mode": {
    "name": "ipython",
    "version": 3
   },
   "file_extension": ".py",
   "mimetype": "text/x-python",
   "name": "python",
   "nbconvert_exporter": "python",
   "pygments_lexer": "ipython3",
   "version": "3.6.9"
  }
 },
 "nbformat": 4,
 "nbformat_minor": 2
}
