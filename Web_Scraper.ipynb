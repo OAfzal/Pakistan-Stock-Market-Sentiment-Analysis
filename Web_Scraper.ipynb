{
 "cells": [
  {
   "cell_type": "code",
   "execution_count": 30,
   "metadata": {},
   "outputs": [
    {
     "name": "stdout",
     "output_type": "stream",
     "text": [
      "['https://pkfinance.info/kse/stock/HBL?tb=true', 'https://pkfinance.info/kse/stock/ENGRO?tb=true']\n"
     ]
    }
   ],
   "source": [
    "import csv\n",
    "import time\n",
    "import requests\n",
    "from bs4 import BeautifulSoup\n",
    "\n",
    "Base_url = \"http://www.pkfinance.info\"\n",
    " \n",
    "# Build a dictionary of companies and their abbreviated names \n",
    "companies = {'Habib Bank Limited':'HBL', 'Engro Chemical':'ENGRO'}\n",
    "             \n",
    "# Create a list of the news section urls of the respective companies \n",
    "url_list = ['https://pkfinance.info/kse/stock/{}?tb=true'.format(v) for k,v in companies.items()]\n",
    "print(url_list)"
   ]
  },
  {
   "cell_type": "code",
   "execution_count": null,
   "metadata": {},
   "outputs": [],
   "source": []
  },
  {
   "cell_type": "code",
   "execution_count": null,
   "metadata": {},
   "outputs": [],
   "source": []
  },
  {
   "cell_type": "code",
   "execution_count": null,
   "metadata": {},
   "outputs": [],
   "source": []
  }
 ],
 "metadata": {
  "kernelspec": {
   "display_name": "Python 3",
   "language": "python3",
   "name": "python3"
  },
  "language_info": {
   "codemirror_mode": {
    "name": "ipython",
    "version": 3
   },
   "file_extension": ".py",
   "mimetype": "text/x-python",
   "name": "python",
   "nbconvert_exporter": "python",
   "pygments_lexer": "ipython3",
   "version": "3.6.9"
  }
 },
 "nbformat": 4,
 "nbformat_minor": 2
}
