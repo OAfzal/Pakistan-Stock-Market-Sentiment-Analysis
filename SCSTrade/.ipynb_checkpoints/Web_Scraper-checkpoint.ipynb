{
 "cells": [
  {
   "cell_type": "code",
   "execution_count": 1,
   "metadata": {},
   "outputs": [
    {
     "name": "stdout",
     "output_type": "stream",
     "text": [
      "['https://pkfinance.info/kse/stock/HBL?tb=true', 'https://pkfinance.info/kse/stock/ENGRO?tb=true']\n"
     ]
    }
   ],
   "source": [
    "import csv, time, lxml, json, requests\n",
    "import pandas as pd\n",
    "from pandas.io.json import json_normalize\n",
    "import bs4 as bs\n",
    "import urllib3 as urllib\n",
    "import matplotlib.pyplot as plt\n",
    "%\n",
    "\n",
    "Base_url = \"http://www.pkfinance.info\"\n",
    " \n",
    "# Build a dictionary of companies and their abbreviated names \n",
    "companies = {'Habib Bank Limited':'HBL', 'Engro Chemical':'ENGRO'}\n",
    "             \n",
    "# Create a list of the news section urls of the respective companies \n",
    "url_list = ['https://pkfinance.info/kse/stock/{}?tb=true'.format(v) for k,v in companies.items()]\n",
    "\n",
    "print(url_list)"
   ]
  },
  {
   "cell_type": "code",
   "execution_count": 2,
   "metadata": {},
   "outputs": [],
   "source": [
    "import json\n",
    "url = 'http://www.scstrade.com/stockscreening/SS_CompanySnapShotHP.aspx/chart'\n",
    "payload = {\"par\":\"HBL\",\"date1\":\"01/01/2019\",\"date2\":\"06/01/2019\",\"rows\":20,\"page\":1,\"sidx\":\"trading_Date\",\"sord\":\"desc\"}\n",
    "\n",
    "json_data = requests.post(url, json=payload).json()"
   ]
  },
  {
   "cell_type": "code",
   "execution_count": 3,
   "metadata": {},
   "outputs": [],
   "source": [
    "json_normalize(json_data)\n",
    "df = pd.DataFrame(json_data)"
   ]
  },
  {
   "cell_type": "code",
   "execution_count": 4,
   "metadata": {},
   "outputs": [],
   "source": [
    "df = pd.io.json.json_normalize(json_data['d'], errors='ignore')"
   ]
  },
  {
   "cell_type": "code",
   "execution_count": 5,
   "metadata": {},
   "outputs": [],
   "source": [
    "df.columns = ['Date', 'Open', 'High', 'Low', 'Close', 'Volume', 'Change']\n",
    "#df.set_index(['Date'], inplace=True)"
   ]
  },
  {
   "cell_type": "code",
   "execution_count": 6,
   "metadata": {},
   "outputs": [],
   "source": [
    "df['Date'] = df['Date'].str.strip('/Date()')\n"
   ]
  },
  {
   "cell_type": "code",
   "execution_count": 7,
   "metadata": {},
   "outputs": [
    {
     "data": {
      "text/html": [
       "<div>\n",
       "<style scoped>\n",
       "    .dataframe tbody tr th:only-of-type {\n",
       "        vertical-align: middle;\n",
       "    }\n",
       "\n",
       "    .dataframe tbody tr th {\n",
       "        vertical-align: top;\n",
       "    }\n",
       "\n",
       "    .dataframe thead th {\n",
       "        text-align: right;\n",
       "    }\n",
       "</style>\n",
       "<table border=\"1\" class=\"dataframe\">\n",
       "  <thead>\n",
       "    <tr style=\"text-align: right;\">\n",
       "      <th></th>\n",
       "      <th>Date</th>\n",
       "      <th>Open</th>\n",
       "      <th>High</th>\n",
       "      <th>Low</th>\n",
       "      <th>Close</th>\n",
       "      <th>Volume</th>\n",
       "      <th>Change</th>\n",
       "    </tr>\n",
       "  </thead>\n",
       "  <tbody>\n",
       "    <tr>\n",
       "      <th>0</th>\n",
       "      <td>2019-05-29 19:00:00</td>\n",
       "      <td>124.43</td>\n",
       "      <td>125.97</td>\n",
       "      <td>122.25</td>\n",
       "      <td>123.51</td>\n",
       "      <td>1838900</td>\n",
       "      <td>-0.92</td>\n",
       "    </tr>\n",
       "    <tr>\n",
       "      <th>1</th>\n",
       "      <td>2019-05-28 19:00:00</td>\n",
       "      <td>122.97</td>\n",
       "      <td>125.99</td>\n",
       "      <td>122.97</td>\n",
       "      <td>124.43</td>\n",
       "      <td>1465100</td>\n",
       "      <td>1.47</td>\n",
       "    </tr>\n",
       "    <tr>\n",
       "      <th>2</th>\n",
       "      <td>2019-05-27 19:00:00</td>\n",
       "      <td>126.74</td>\n",
       "      <td>127.00</td>\n",
       "      <td>122.00</td>\n",
       "      <td>122.96</td>\n",
       "      <td>2868700</td>\n",
       "      <td>-3.78</td>\n",
       "    </tr>\n",
       "    <tr>\n",
       "      <th>3</th>\n",
       "      <td>2019-05-26 19:00:00</td>\n",
       "      <td>126.00</td>\n",
       "      <td>127.99</td>\n",
       "      <td>125.00</td>\n",
       "      <td>126.74</td>\n",
       "      <td>575800</td>\n",
       "      <td>0.47</td>\n",
       "    </tr>\n",
       "    <tr>\n",
       "      <th>4</th>\n",
       "      <td>2019-05-23 19:00:00</td>\n",
       "      <td>127.13</td>\n",
       "      <td>128.48</td>\n",
       "      <td>125.51</td>\n",
       "      <td>126.27</td>\n",
       "      <td>3292600</td>\n",
       "      <td>-0.86</td>\n",
       "    </tr>\n",
       "  </tbody>\n",
       "</table>\n",
       "</div>"
      ],
      "text/plain": [
       "                 Date    Open    High     Low   Close   Volume  Change\n",
       "0 2019-05-29 19:00:00  124.43  125.97  122.25  123.51  1838900   -0.92\n",
       "1 2019-05-28 19:00:00  122.97  125.99  122.97  124.43  1465100    1.47\n",
       "2 2019-05-27 19:00:00  126.74  127.00  122.00  122.96  2868700   -3.78\n",
       "3 2019-05-26 19:00:00  126.00  127.99  125.00  126.74   575800    0.47\n",
       "4 2019-05-23 19:00:00  127.13  128.48  125.51  126.27  3292600   -0.86"
      ]
     },
     "execution_count": 7,
     "metadata": {},
     "output_type": "execute_result"
    }
   ],
   "source": [
    "#df['Date'] = pd.to_datetime(df['Date'], format='%d%m%Y')\n",
    "df['Date'] = pd.to_datetime(df['Date'], origin='unix', unit='ms')\n",
    "df.head()"
   ]
  },
  {
   "cell_type": "code",
   "execution_count": null,
   "metadata": {},
   "outputs": [],
   "source": []
  }
 ],
 "metadata": {
  "kernelspec": {
   "display_name": "Python 3",
   "language": "python3",
   "name": "python3"
  },
  "language_info": {
   "codemirror_mode": {
    "name": "ipython",
    "version": 3
   },
   "file_extension": ".py",
   "mimetype": "text/x-python",
   "name": "python",
   "nbconvert_exporter": "python",
   "pygments_lexer": "ipython3",
   "version": "3.6.9"
  }
 },
 "nbformat": 4,
 "nbformat_minor": 2
}
