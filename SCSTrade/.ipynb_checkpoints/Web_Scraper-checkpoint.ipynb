{
 "cells": [
  {
   "cell_type": "code",
   "execution_count": 14,
   "metadata": {},
   "outputs": [],
   "source": [
    "import csv, time, lxml, json, requests\n",
    "import pandas as pd\n",
    "from pandas.io.json import json_normalize\n",
    "from datetime import datetime\n",
    "import bs4 as bs\n",
    "import urllib3 as urllib\n",
    "from plotly import graph_objs as go\n",
    "import matplotlib.pyplot as plt\n",
    "%matplotlib inline"
   ]
  },
  {
   "cell_type": "code",
   "execution_count": 2,
   "metadata": {},
   "outputs": [],
   "source": [
    "def get_urls():\n",
    "    Base_url = \"http://www.scstrade.com\"\n",
    " \n",
    "    # Build a dictionary of companies and their abbreviated names \n",
    "    companies = {'Habib Bank Limited':'HBL', 'Engro Chemical':'ENGRO'}\n",
    "\n",
    "    # Create a list of the news section urls of the respective companies \n",
    "    return ['http://www.scstrade.com/stockscreening/SS_CompanySnapShot.aspx?symbol={}'.format(v) \n",
    "                for k,v in companies.items()]"
   ]
  },
  {
   "cell_type": "code",
   "execution_count": 16,
   "metadata": {},
   "outputs": [],
   "source": [
    "def jsontodataframe(): #collect OHLC data from scstrade\n",
    "\n",
    "    companies = {'Habib Bank Limited':'HBL'}\n",
    "    url = 'http://www.scstrade.com/stockscreening/SS_CompanySnapShotHP.aspx/chart'\n",
    "\n",
    "    payload = {\"par\":\"ENGRO\",\"date1\":\"01/01/2019\",\"date2\":\"06/01/2019\",\"rows\":20,\"page\":1,\"sidx\":\"trading_Date\",\n",
    "    \"sord\":\"desc\"}\n",
    "\n",
    "    json_data = requests.post(url, json=payload).json() #download the json POST request from scstrade\n",
    "    json_normalize(json_data)\n",
    "    df = pd.DataFrame(json_data) #convert the json to pandas dataframe\n",
    "\n",
    "    df = pd.io.json.json_normalize(json_data['d'], errors='ignore')\n",
    "\n",
    "    df.columns = ['Date', 'Open', 'High', 'Low', 'Close', 'Volume', 'Change'] #rename the columns to better names\n",
    "\n",
    "    #     df['ID'] = companies.values() \n",
    "    #     df.head() \n",
    "    \n",
    "    df['Date'] = df['Date'].str.strip('/Date()')\n",
    "    df['Date'] = pd.to_datetime(df['Date'], origin='unix', unit='ms') #convert unix timestamp to pandas datetime and set the index\n",
    "    #df.set_index(['Date'], inplace=True)\n",
    "    df.set_index(['Date'], inplace=True)\n",
    "    df.to_csv(\"/home/duke/PSMSA/SCSTrade/OHLC_values.csv\") #save .csv file for later usage"
   ]
  },
  {
   "cell_type": "code",
   "execution_count": 19,
   "metadata": {},
   "outputs": [
    {
     "name": "stdout",
     "output_type": "stream",
     "text": [
      "None\n"
     ]
    }
   ],
   "source": [
    "df = pd.read_csv(\"/home/duke/PSMSA/SCSTrade/OHLC_values.csv\")\n",
    "df.head()"
   ]
  },
  {
   "cell_type": "code",
   "execution_count": 15,
   "metadata": {},
   "outputs": [
    {
     "ename": "TypeError",
     "evalue": "'NoneType' object is not callable",
     "output_type": "error",
     "traceback": [
      "\u001b[0;31m---------------------------------------------------------------------------\u001b[0m",
      "\u001b[0;31mTypeError\u001b[0m                                 Traceback (most recent call last)",
      "\u001b[0;32m<ipython-input-15-649d663da56f>\u001b[0m in \u001b[0;36m<module>\u001b[0;34m\u001b[0m\n\u001b[1;32m      5\u001b[0m                 close=df['Close'])])\n\u001b[1;32m      6\u001b[0m \u001b[0;34m\u001b[0m\u001b[0m\n\u001b[0;32m----> 7\u001b[0;31m \u001b[0mfig\u001b[0m\u001b[0;34m.\u001b[0m\u001b[0mshow\u001b[0m\u001b[0;34m(\u001b[0m\u001b[0;34m)\u001b[0m\u001b[0;34m\u001b[0m\u001b[0;34m\u001b[0m\u001b[0m\n\u001b[0m",
      "\u001b[0;31mTypeError\u001b[0m: 'NoneType' object is not callable"
     ]
    }
   ],
   "source": [
    "fig = go.Figure(data=[go.Candlestick(x=df['Date'],\n",
    "                open=df['Open'],\n",
    "                high=df['High'],\n",
    "                low=df['Low'],\n",
    "                close=df['Close'])])\n",
    "\n",
    "fig.show()"
   ]
  },
  {
   "cell_type": "code",
   "execution_count": 5,
   "metadata": {},
   "outputs": [],
   "source": []
  },
  {
   "cell_type": "code",
   "execution_count": 6,
   "metadata": {},
   "outputs": [],
   "source": []
  },
  {
   "cell_type": "code",
   "execution_count": null,
   "metadata": {},
   "outputs": [],
   "source": []
  },
  {
   "cell_type": "code",
   "execution_count": null,
   "metadata": {},
   "outputs": [],
   "source": []
  }
 ],
 "metadata": {
  "kernelspec": {
   "display_name": "Python 3",
   "language": "python3",
   "name": "python3"
  },
  "language_info": {
   "codemirror_mode": {
    "name": "ipython",
    "version": 3
   },
   "file_extension": ".py",
   "mimetype": "text/x-python",
   "name": "python",
   "nbconvert_exporter": "python",
   "pygments_lexer": "ipython3",
   "version": "3.6.9"
  }
 },
 "nbformat": 4,
 "nbformat_minor": 2
}
