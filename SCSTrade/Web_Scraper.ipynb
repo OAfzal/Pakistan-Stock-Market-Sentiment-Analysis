{
 "cells": [
  {
   "cell_type": "code",
   "execution_count": 8,
   "metadata": {},
   "outputs": [],
   "source": [
    "import csv, time, lxml, json, requests\n",
    "import pandas as pd\n",
    "from pandas.io.json import json_normalize\n",
    "import bs4 as bs\n",
    "import urllib3 as urllib\n",
    "import matplotlib.pyplot as plt\n",
    "%matplotlib inline"
   ]
  },
  {
   "cell_type": "code",
   "execution_count": 18,
   "metadata": {},
   "outputs": [],
   "source": [
    "def get_urls():\n",
    "    Base_url = \"http://www.scstrade.com\"\n",
    " \n",
    "    # Build a dictionary of companies and their abbreviated names \n",
    "    companies = {'Habib Bank Limited':'HBL', 'Engro Chemical':'ENGRO'}\n",
    "\n",
    "    # Create a list of the news section urls of the respective companies \n",
    "    return ['http://www.scstrade.com/stockscreening/SS_CompanySnapShot.aspx?symbol={}'.format(v) \n",
    "                for k,v in companies.items()]"
   ]
  },
  {
   "cell_type": "code",
   "execution_count": 21,
   "metadata": {},
   "outputs": [],
   "source": [
    "def jsontodataframe(): #collect OHLC data from scstrade\n",
    "\n",
    "    companies = {'Habib Bank Limited':'HBL'}\n",
    "    url = 'http://www.scstrade.com/stockscreening/SS_CompanySnapShotHP.aspx/chart'\n",
    "\n",
    "    payload = {\"par\":\"ENGRO\",\"date1\":\"01/01/2019\",\"date2\":\"06/01/2019\",\"rows\":20,\"page\":1,\"sidx\":\"trading_Date\",\n",
    "    \"sord\":\"desc\"}\n",
    "\n",
    "    json_data = requests.post(url, json=payload).json() #download the json POST request from scstrade\n",
    "    json_normalize(json_data)\n",
    "    df = pd.DataFrame(json_data) #convert the json to pandas dataframe\n",
    "\n",
    "    df = pd.io.json.json_normalize(json_data['d'], errors='ignore')\n",
    "\n",
    "    df.columns = ['Date', 'Open', 'High', 'Low', 'Close', 'Volume', 'Change'] #rename the columns to better names\n",
    "\n",
    "    #     df['ID'] = companies.values() \n",
    "    #     df.head() \n",
    "    \n",
    "    df['Date'] = df['Date'].str.strip('/Date()')\n",
    "    df['Date'] = pd.to_datetime(df['Date'], origin='unix', unit='ms') #convert unix timestamp to pandas datetime and set the index\n",
    "    df.set_index(['Date'], inplace=True)\n",
    "    df.to_csv(\"/home/duke/PSMSA/SCSTrade/OHLC_values.csv\") #save .csv file for later usage\n",
    "    return df.head()\n"
   ]
  },
  {
   "cell_type": "code",
   "execution_count": 22,
   "metadata": {},
   "outputs": [
    {
     "data": {
      "text/html": [
       "<div>\n",
       "<style scoped>\n",
       "    .dataframe tbody tr th:only-of-type {\n",
       "        vertical-align: middle;\n",
       "    }\n",
       "\n",
       "    .dataframe tbody tr th {\n",
       "        vertical-align: top;\n",
       "    }\n",
       "\n",
       "    .dataframe thead th {\n",
       "        text-align: right;\n",
       "    }\n",
       "</style>\n",
       "<table border=\"1\" class=\"dataframe\">\n",
       "  <thead>\n",
       "    <tr style=\"text-align: right;\">\n",
       "      <th></th>\n",
       "      <th>Open</th>\n",
       "      <th>High</th>\n",
       "      <th>Low</th>\n",
       "      <th>Close</th>\n",
       "      <th>Volume</th>\n",
       "      <th>Change</th>\n",
       "    </tr>\n",
       "    <tr>\n",
       "      <th>Date</th>\n",
       "      <th></th>\n",
       "      <th></th>\n",
       "      <th></th>\n",
       "      <th></th>\n",
       "      <th></th>\n",
       "      <th></th>\n",
       "    </tr>\n",
       "  </thead>\n",
       "  <tbody>\n",
       "    <tr>\n",
       "      <th>2019-05-29 19:00:00</th>\n",
       "      <td>289.75</td>\n",
       "      <td>294.01</td>\n",
       "      <td>281.55</td>\n",
       "      <td>283.80</td>\n",
       "      <td>1358200</td>\n",
       "      <td>-3.88</td>\n",
       "    </tr>\n",
       "    <tr>\n",
       "      <th>2019-05-28 19:00:00</th>\n",
       "      <td>280.99</td>\n",
       "      <td>290.50</td>\n",
       "      <td>280.99</td>\n",
       "      <td>287.68</td>\n",
       "      <td>1321300</td>\n",
       "      <td>11.01</td>\n",
       "    </tr>\n",
       "    <tr>\n",
       "      <th>2019-05-27 19:00:00</th>\n",
       "      <td>281.50</td>\n",
       "      <td>281.50</td>\n",
       "      <td>274.80</td>\n",
       "      <td>276.67</td>\n",
       "      <td>1062000</td>\n",
       "      <td>-5.04</td>\n",
       "    </tr>\n",
       "    <tr>\n",
       "      <th>2019-05-26 19:00:00</th>\n",
       "      <td>280.00</td>\n",
       "      <td>284.90</td>\n",
       "      <td>279.61</td>\n",
       "      <td>281.71</td>\n",
       "      <td>794400</td>\n",
       "      <td>1.99</td>\n",
       "    </tr>\n",
       "    <tr>\n",
       "      <th>2019-05-23 19:00:00</th>\n",
       "      <td>280.12</td>\n",
       "      <td>284.75</td>\n",
       "      <td>277.05</td>\n",
       "      <td>279.72</td>\n",
       "      <td>609300</td>\n",
       "      <td>-0.40</td>\n",
       "    </tr>\n",
       "  </tbody>\n",
       "</table>\n",
       "</div>"
      ],
      "text/plain": [
       "                       Open    High     Low   Close   Volume  Change\n",
       "Date                                                                \n",
       "2019-05-29 19:00:00  289.75  294.01  281.55  283.80  1358200   -3.88\n",
       "2019-05-28 19:00:00  280.99  290.50  280.99  287.68  1321300   11.01\n",
       "2019-05-27 19:00:00  281.50  281.50  274.80  276.67  1062000   -5.04\n",
       "2019-05-26 19:00:00  280.00  284.90  279.61  281.71   794400    1.99\n",
       "2019-05-23 19:00:00  280.12  284.75  277.05  279.72   609300   -0.40"
      ]
     },
     "execution_count": 22,
     "metadata": {},
     "output_type": "execute_result"
    }
   ],
   "source": [
    "jsontodataframe()"
   ]
  },
  {
   "cell_type": "code",
   "execution_count": 17,
   "metadata": {},
   "outputs": [],
   "source": []
  },
  {
   "cell_type": "code",
   "execution_count": 5,
   "metadata": {},
   "outputs": [],
   "source": []
  },
  {
   "cell_type": "code",
   "execution_count": 6,
   "metadata": {},
   "outputs": [],
   "source": []
  },
  {
   "cell_type": "code",
   "execution_count": null,
   "metadata": {},
   "outputs": [],
   "source": []
  },
  {
   "cell_type": "code",
   "execution_count": null,
   "metadata": {},
   "outputs": [],
   "source": []
  }
 ],
 "metadata": {
  "kernelspec": {
   "display_name": "Python 3",
   "language": "python3",
   "name": "python3"
  },
  "language_info": {
   "codemirror_mode": {
    "name": "ipython",
    "version": 3
   },
   "file_extension": ".py",
   "mimetype": "text/x-python",
   "name": "python",
   "nbconvert_exporter": "python",
   "pygments_lexer": "ipython3",
   "version": "3.6.9"
  }
 },
 "nbformat": 4,
 "nbformat_minor": 2
}
